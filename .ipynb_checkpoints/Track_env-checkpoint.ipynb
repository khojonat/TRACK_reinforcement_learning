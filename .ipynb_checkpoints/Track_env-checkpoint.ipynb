{
 "cells": [
  {
   "cell_type": "code",
   "execution_count": 3,
   "id": "3f3de1a2",
   "metadata": {},
   "outputs": [],
   "source": [
    "import sys\n",
    "sys.path.insert(0, 'src')  # Change this to location of PyTrack src\n",
    "from runTrack import *\n",
    "from config import Config\n",
    "from utils import *\n",
    "from hdf5Track import *\n",
    "\n",
    "import numpy as np \n",
    "import gym\n",
    "\n",
    "from gym import Env, spaces"
   ]
  },
  {
   "cell_type": "code",
   "execution_count": 12,
   "id": "8dc1da3b",
   "metadata": {},
   "outputs": [
    {
     "name": "stdout",
     "output_type": "stream",
     "text": [
      "[5707]\n",
      "[ 2.5460079 -2.1821103  2.6397486  2.3290865 -6.4975557  4.5799003]\n"
     ]
    }
   ],
   "source": [
    "# This represent that the number of particles loss can be a discreate int from 0-10000\n",
    "obs = spaces.Box(low = 0.0, high = 10000.0, shape =(1,) , dtype = np.int32) \n",
    "print(obs.sample())\n",
    "# THis represent the 6 different voltages on the quadupoles.\n",
    "act = spaces.Box(low = -8.0, high = 8.0, shape =(6,) , dtype = np.float32) \n",
    "print(act.sample())"
   ]
  },
  {
   "cell_type": "code",
   "execution_count": null,
   "id": "82a2b2a0",
   "metadata": {},
   "outputs": [],
   "source": [
    "class TRACKenv(Env):\n",
    "  \n",
    "  def __init__(self):\n",
    "      super(TRACKenv, self).__init__()\n",
    "      self.observation_shape = (10000,1)# Let's do simple thing first with the observation being the number of particles left.\n",
    "      self.observation_space = spaces.Box(low = 0, high = 10000, dtype = np.float32) \n",
    "      # Ex: spaces.Box(low = np.zeros(self.observation_shape), \n",
    "                               #             high = np.ones(self.observation_shape),\n",
    "                               #             dtype = np.float16)\n",
    "\n",
    "      self.action_space = spaces.Box(low = -8.0, high = 8.0, shape =(6,) , dtype = np.float32) \n",
    "      # Ex: gym.spaces.Box(low = 0.,high = 6.,shape = (1,))\n",
    "      \n",
    "      # Can define other parameters of environment here\n",
    "      \n",
    "  # Reinitialize the environment\n",
    "  def reset(self):\n",
    "    \n",
    "    return \n",
    "  \n",
    "  # Agent takes a step in the environment, returns reward and whether the episode is finished\n",
    "  def step(self, action):\n",
    "    \n",
    "    # Flag that marks the termination of an episode, to be triggered as desired\n",
    "    done = False\n",
    "    \n",
    "    reward = \n",
    "    \n",
    "    # if _____ :\n",
    "    #   done = True\n",
    "    \n",
    "    return reward, done\n",
    "  \n",
    "  # Can optionally add a function to render the environment\n",
    "  \n",
    "  # def render(self)"
   ]
  },
  {
   "cell_type": "code",
   "execution_count": null,
   "id": "ec12a1eb",
   "metadata": {},
   "outputs": [],
   "source": []
  },
  {
   "cell_type": "code",
   "execution_count": null,
   "id": "219761ff",
   "metadata": {},
   "outputs": [],
   "source": [
    "from gym.utils.env_checker import check_env\n",
    "check_env(env)"
   ]
  }
 ],
 "metadata": {
  "kernelspec": {
   "display_name": "Python 3 (ipykernel)",
   "language": "python",
   "name": "python3"
  },
  "language_info": {
   "codemirror_mode": {
    "name": "ipython",
    "version": 3
   },
   "file_extension": ".py",
   "mimetype": "text/x-python",
   "name": "python",
   "nbconvert_exporter": "python",
   "pygments_lexer": "ipython3",
   "version": "3.8.11"
  }
 },
 "nbformat": 4,
 "nbformat_minor": 5
}
