{
 "cells": [
  {
   "cell_type": "markdown",
   "id": "a4875c62",
   "metadata": {},
   "source": [
    "This notebook is used to get a track env running. \n",
    "I followed this tutorial:\n",
    "https://towardsdatascience.com/beginners-guide-to-custom-environments-in-openai-s-gym-989371673952\n"
   ]
  },
  {
   "cell_type": "code",
   "execution_count": 1,
   "id": "7dc2a3cc",
   "metadata": {},
   "outputs": [
    {
     "name": "stdout",
     "output_type": "stream",
     "text": [
      "Loading runTrack...\n",
      "Loading config...\n",
      "Loading utils...\n",
      "Loading hdf5Track...\n"
     ]
    }
   ],
   "source": [
    "import sys\n",
    "sys.path.insert(0, 'src')  # Change this to location of PyTrack src\n",
    "from runTrack import *\n",
    "from config import Config\n",
    "from utils import *\n",
    "from hdf5Track import *\n",
    "\n",
    "import numpy as np \n",
    "import gym\n",
    "\n",
    "from gym import Env, spaces"
   ]
  },
  {
   "cell_type": "code",
   "execution_count": 2,
   "id": "138476ca",
   "metadata": {},
   "outputs": [
    {
     "name": "stdout",
     "output_type": "stream",
     "text": [
      "[1852]\n",
      "[ 5.582588   5.902466   6.092525   4.4466634 -7.830861   5.850321 ]\n"
     ]
    }
   ],
   "source": [
    "# This represent that the number of particles loss can be a discreate int from 0-10000. \n",
    "reward = spaces.Box(low = 0.0, high = 10000.0, shape =(1,) , dtype = np.int32) \n",
    "print(reward.sample())\n",
    "# This represent the 6 different voltages on the quadupoles.\n",
    "obs = spaces.Box(low = -8.0, high = 8.0, shape =(6,) , dtype = np.float32) \n",
    "print(obs.sample())"
   ]
  },
  {
   "cell_type": "code",
   "execution_count": 3,
   "id": "b17519d2",
   "metadata": {},
   "outputs": [],
   "source": [
    "# def run(run_config, sim_folder, cf=cf):\n",
    "#     \"\"\"\n",
    "#     Custom run file to run one TRACK configurate and extract the required information \n",
    "#     Note: the type of beam element must be a constant.\n",
    "#     1. copy defult configurate of TRACK.dat and sclinac.dat\n",
    "#     2. update TRACK.dat and sclinac.dat file and save inputs\n",
    "#     3. run TRACK and save distributions at corresponding locations.\n",
    "    \n",
    "#     Inputs:\n",
    "#     run_config - dirction which contains important information about the track file, sclinac file, and locations\n",
    "#     sim_folder - location of simualation folder\n",
    "#     hdf5_file - location of hdf5 file\n",
    "#     trial - trial number\n",
    "    \n",
    "#     Outputs:\n",
    "#     df - info about the particle distribtuion\n",
    "#     beam - info about the beam like emmitance and particle loss\n",
    "#     \"\"\"\n",
    "#     cur_track = cf.TRACK_DAT\n",
    "#     cur_sclinac = cf.SCLINAC\n",
    "#     cur_sclinac0 = cf.SCLINAC0  \n",
    "#     track_file = f\"{sim_folder}/track.dat\"\n",
    "#     sclinac_file = f\"{sim_folder}/sclinac.dat\"\n",
    "    \n",
    "#     track_settings = run_config['track']  # given the track setting we want to update, this should update the track settings\n",
    "#     for i in track_settings:  # just use a dictionary so it's easy to configure.\n",
    "#         cur_track[i] = track_settings[i] \n",
    "    \n",
    "#     # updating sclinac will be harder so we'll have to use indexes [element][argument][value]\n",
    "#     sclinac_setting = run_config['sclinac']\n",
    "#     for i in sclinac_setting:\n",
    "#         cur_sclinac[i[0]][i[1]] = i[2] \n",
    "    \n",
    "#     make_track(track_file, cur_track)  # update track.dat file\n",
    "#     make_sclinac(sclinac_file, cur_sclinac)  # update sclinac.dat file\n",
    "#     df = get_distro(sim_folder, cur_sclinac, cur_track, -1)\n",
    "#     beam = get_beamout(sim_folder)\n",
    "#     return df, beam"
   ]
  },
  {
   "cell_type": "code",
   "execution_count": 34,
   "id": "defaa08d",
   "metadata": {},
   "outputs": [],
   "source": [
    "class TRACKenv(Env):\n",
    "  \n",
    "    def __init__(self):\n",
    "        super(TRACKenv, self).__init__()\n",
    "        self.observation_shape = (6,)# Let's do simple thing first with the observation being the number of particles left.\n",
    "        self.observation_space = spaces.Box(low = -8.0, high = 8.0, shape =(6,) , dtype = np.float32) \n",
    "        # Ex: spaces.Box(low = np.zeros(self.observation_shape), \n",
    "                               #             high = np.ones(self.observation_shape),\n",
    "                               #             dtype = np.float16)\n",
    "\n",
    "        self.action_space = spaces.Box(low = -8.0, high = 8.0, shape =(6,) , dtype = np.float32) \n",
    "        self.reward_range = (0,10000)\n",
    "        # Ex: gym.spaces.Box(low = 0.,high = 6.,shape = (1,))\n",
    "      \n",
    "        # Can define other parameters of environment here\n",
    "        self.observation = np.array([0,0,0,0,0,0], dtype = np.float32)  # represents the 6 initial voltages\n",
    "        self.trials = 0  # trials counter\n",
    "        \n",
    "        self.cf = Config()\n",
    "        # remove test folder\n",
    "        rmfolder(cf.CHILD_TRACK,'test')\n",
    "        copy2folder(cf.PARENT_TRACK,cf.CHILD_TRACK,'test')  # create folder\n",
    "        self.sim_folder = str(cf.CHILD_TRACK)+'/test'\n",
    "      \n",
    "    def run(self, run_config, sim_folder):\n",
    "        \"\"\"\n",
    "        Custom run file to run one TRACK configurate and extract the required information \n",
    "        Note: the type of beam element must be a constant.\n",
    "        1. copy defult configurate of TRACK.dat and sclinac.dat\n",
    "        2. update TRACK.dat and sclinac.dat file and save inputs\n",
    "        3. run TRACK and save distributions at corresponding locations.\n",
    "\n",
    "        Inputs:\n",
    "        run_config - dirction which contains important information about the track file, sclinac file, and locations\n",
    "        sim_folder - location of simualation folder\n",
    "        hdf5_file - location of hdf5 file\n",
    "        trial - trial number\n",
    "\n",
    "        Outputs:\n",
    "        df - info about the particle distribtuion\n",
    "        beam - info about the beam like emmitance and particle loss\n",
    "        \"\"\"\n",
    "        cur_track = self.cf.TRACK_DAT\n",
    "        cur_sclinac = self.cf.SCLINAC\n",
    "        cur_sclinac0 = self.cf.SCLINAC0  \n",
    "        track_file = f\"{sim_folder}/track.dat\"\n",
    "        sclinac_file = f\"{sim_folder}/sclinac.dat\"\n",
    "\n",
    "        track_settings = run_config['track']  # given the track setting we want to update, this should update the track settings\n",
    "        for i in track_settings:  # just use a dictionary so it's easy to configure.\n",
    "            cur_track[i] = track_settings[i] \n",
    "\n",
    "        # updating sclinac will be harder so we'll have to use indexes [element][argument][value]\n",
    "        sclinac_setting = run_config['sclinac']\n",
    "        for i in sclinac_setting:\n",
    "            cur_sclinac[i[0]][i[1]] = i[2] \n",
    "\n",
    "        make_track(track_file, cur_track)  # update track.dat file\n",
    "        make_sclinac(sclinac_file, cur_sclinac)  # update sclinac.dat file\n",
    "        df = get_distro(sim_folder, cur_sclinac, cur_track, -1)\n",
    "        beam = get_beamout(sim_folder)\n",
    "        return df, beam\n",
    "\n",
    "  # Reinitialize the environment\n",
    "    def reset(self, seed=None, return_info=False, options=None):\n",
    "        # Don't really need this since the environment resets every time already. \n",
    "        # Unless we want to start off at a certain voltage setting that is\n",
    "        # remove test folder\n",
    "        rmfolder(self.cf.CHILD_TRACK,'test')\n",
    "        \n",
    "        copy2folder(self.cf.PARENT_TRACK,self.cf.CHILD_TRACK,'test')  # create folder\n",
    "        self.sim_folder = str(self.cf.CHILD_TRACK)+'/test'\n",
    "        self.observation = np.array([0,0,0,0,0,0], dtype = np.float32)\n",
    "        if return_info: \n",
    "            info = {}\n",
    "            return self.observation, info\n",
    "        return self.observation\n",
    "  \n",
    "  # Agent takes a step in the environment, returns reward and whether the episode is finished\n",
    "    def step(self, action):\n",
    "        V = self.observation + action\n",
    "        run_config = {'track': {},\n",
    "             'sclinac': [[4,2,V[0]],[5,2,V[1]],[7,2,V[2]],[8,2,V[3]],[10,2,V[4]],[11,2,V[5]]],\n",
    "             'inputs':{'05_eq3d':{'voltage':V[0]},  # first index in name, second index is value\n",
    "                       '06_eq3d':{'voltage':V[1]},\n",
    "                      '08_eq3d':{'voltage':V[2]},\n",
    "                      '09_eq3d':{'voltage':V[3]},\n",
    "                      '11_eq3d':{'voltage':V[4]},\n",
    "                      '12_eq3d':{'voltage':V[5]}}\n",
    "             }\n",
    "        dist, beam = self.run(run_config, self.sim_folder)\n",
    "        \n",
    "        new_obs = V\n",
    "        self.observation = new_obs\n",
    "        \n",
    "        # Flag that marks the termination of an episode, to be triggered as desired\n",
    "        # episode finished when loss reaches min or after a certain number of trials.\n",
    "        done = False\n",
    "        self.trials +=1\n",
    "    \n",
    "        reward = beam['#of_part_left'].values[-1]  # higher rewards the more particles that are left.\n",
    "    \n",
    "        if reward > 10000*.95:  # done if reward is greater than a number\n",
    "            done = True\n",
    "            self.reset()\n",
    "        if self.trials > 99:  # if trials over 100, also end\n",
    "            done = True\n",
    "            self.reset()\n",
    "            \n",
    "        info = {}\n",
    "        \n",
    "        return new_obs, reward, done, info\n",
    "  \n",
    "  # Can optionally add a function to render the environment\n",
    "  \n",
    "  # def render(self)"
   ]
  },
  {
   "cell_type": "markdown",
   "id": "e75fc61e",
   "metadata": {},
   "source": [
    "It said I need to register the env, but if I just do\n",
    "\n",
    "env=TRACKenv()\n",
    "\n",
    "it should also work."
   ]
  },
  {
   "cell_type": "code",
   "execution_count": 22,
   "id": "61baa3ae",
   "metadata": {},
   "outputs": [
    {
     "data": {
      "text/plain": [
       "(array([-2,  2, -2,  2, -2, -2]), 1129.0, False, {})"
      ]
     },
     "execution_count": 22,
     "metadata": {},
     "output_type": "execute_result"
    }
   ],
   "source": [
    "env = TRACKenv()\n",
    "act = np.array([-2,2,-2,2,-2,-2])\n",
    "env.step(act)  # see it works"
   ]
  },
  {
   "cell_type": "code",
   "execution_count": 35,
   "id": "d73f7961",
   "metadata": {},
   "outputs": [
    {
     "ename": "AssertionError",
     "evalue": "",
     "output_type": "error",
     "traceback": [
      "\u001b[1;31m---------------------------------------------------------------------------\u001b[0m",
      "\u001b[1;31mAssertionError\u001b[0m                            Traceback (most recent call last)",
      "\u001b[1;32m~\\AppData\\Local\\Temp/ipykernel_13440/449992597.py\u001b[0m in \u001b[0;36m<module>\u001b[1;34m\u001b[0m\n\u001b[0;32m      2\u001b[0m \u001b[1;33m\u001b[0m\u001b[0m\n\u001b[0;32m      3\u001b[0m \u001b[0menv\u001b[0m \u001b[1;33m=\u001b[0m \u001b[0mTRACKenv\u001b[0m\u001b[1;33m(\u001b[0m\u001b[1;33m)\u001b[0m\u001b[1;33m\u001b[0m\u001b[1;33m\u001b[0m\u001b[0m\n\u001b[1;32m----> 4\u001b[1;33m \u001b[0mcheck_env\u001b[0m\u001b[1;33m(\u001b[0m\u001b[0menv\u001b[0m\u001b[1;33m)\u001b[0m\u001b[1;33m\u001b[0m\u001b[1;33m\u001b[0m\u001b[0m\n\u001b[0m",
      "\u001b[1;32mc:\\users\\trana\\anaconda3\\envs\\d2l\\lib\\site-packages\\gym\\utils\\env_checker.py\u001b[0m in \u001b[0;36mcheck_env\u001b[1;34m(env, warn, skip_render_check)\u001b[0m\n\u001b[0;32m    236\u001b[0m \u001b[1;33m\u001b[0m\u001b[0m\n\u001b[0;32m    237\u001b[0m     \u001b[1;31m# ==== Check the reset method ====\u001b[0m\u001b[1;33m\u001b[0m\u001b[1;33m\u001b[0m\u001b[1;33m\u001b[0m\u001b[0m\n\u001b[1;32m--> 238\u001b[1;33m     \u001b[0mcheck_reset_seed\u001b[0m\u001b[1;33m(\u001b[0m\u001b[0menv\u001b[0m\u001b[1;33m)\u001b[0m\u001b[1;33m\u001b[0m\u001b[1;33m\u001b[0m\u001b[0m\n\u001b[0m\u001b[0;32m    239\u001b[0m     \u001b[0mcheck_reset_options\u001b[0m\u001b[1;33m(\u001b[0m\u001b[0menv\u001b[0m\u001b[1;33m)\u001b[0m\u001b[1;33m\u001b[0m\u001b[1;33m\u001b[0m\u001b[0m\n\u001b[0;32m    240\u001b[0m     \u001b[0mcheck_reset_info\u001b[0m\u001b[1;33m(\u001b[0m\u001b[0menv\u001b[0m\u001b[1;33m)\u001b[0m\u001b[1;33m\u001b[0m\u001b[1;33m\u001b[0m\u001b[0m\n",
      "\u001b[1;32mc:\\users\\trana\\anaconda3\\envs\\d2l\\lib\\site-packages\\gym\\utils\\env_checker.py\u001b[0m in \u001b[0;36mcheck_reset_seed\u001b[1;34m(env)\u001b[0m\n\u001b[0;32m     81\u001b[0m             \u001b[1;32massert\u001b[0m \u001b[0mobs_4\u001b[0m \u001b[1;32min\u001b[0m \u001b[0menv\u001b[0m\u001b[1;33m.\u001b[0m\u001b[0mobservation_space\u001b[0m\u001b[1;33m\u001b[0m\u001b[1;33m\u001b[0m\u001b[0m\n\u001b[0;32m     82\u001b[0m \u001b[1;33m\u001b[0m\u001b[0m\n\u001b[1;32m---> 83\u001b[1;33m             assert (\n\u001b[0m\u001b[0;32m     84\u001b[0m                 \u001b[0menv\u001b[0m\u001b[1;33m.\u001b[0m\u001b[0munwrapped\u001b[0m\u001b[1;33m.\u001b[0m\u001b[0mnp_random\u001b[0m\u001b[1;33m.\u001b[0m\u001b[0mbit_generator\u001b[0m\u001b[1;33m.\u001b[0m\u001b[0mstate\u001b[0m\u001b[1;33m\u001b[0m\u001b[1;33m\u001b[0m\u001b[0m\n\u001b[0;32m     85\u001b[0m                 \u001b[1;33m!=\u001b[0m \u001b[0mseed_123_rng\u001b[0m\u001b[1;33m.\u001b[0m\u001b[0mbit_generator\u001b[0m\u001b[1;33m.\u001b[0m\u001b[0mstate\u001b[0m\u001b[1;33m\u001b[0m\u001b[1;33m\u001b[0m\u001b[0m\n",
      "\u001b[1;31mAssertionError\u001b[0m: "
     ]
    }
   ],
   "source": [
    "from gym.utils.env_checker import check_env\n",
    "\n",
    "env = TRACKenv()\n",
    "check_env(env)"
   ]
  },
  {
   "cell_type": "code",
   "execution_count": 33,
   "id": "b9dfdc4f",
   "metadata": {},
   "outputs": [],
   "source": [
    "obs_1 = np.array([0,0,0,0,0,0], dtype = np.float32)\n",
    "box = spaces.Box(low = -8.0, high = 8.0, shape =(6,) , dtype = np.float32) \n",
    "assert obs_1 in box"
   ]
  },
  {
   "cell_type": "code",
   "execution_count": 32,
   "id": "0a6a7247",
   "metadata": {},
   "outputs": [],
   "source": [
    "assert box.sample() in box"
   ]
  },
  {
   "cell_type": "code",
   "execution_count": null,
   "id": "50914b3d",
   "metadata": {},
   "outputs": [],
   "source": []
  }
 ],
 "metadata": {
  "kernelspec": {
   "display_name": "Python 3 (ipykernel)",
   "language": "python",
   "name": "python3"
  },
  "language_info": {
   "codemirror_mode": {
    "name": "ipython",
    "version": 3
   },
   "file_extension": ".py",
   "mimetype": "text/x-python",
   "name": "python",
   "nbconvert_exporter": "python",
   "pygments_lexer": "ipython3",
   "version": "3.8.11"
  }
 },
 "nbformat": 4,
 "nbformat_minor": 5
}
