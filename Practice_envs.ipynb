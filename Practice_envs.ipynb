{
 "cells": [
  {
   "cell_type": "code",
   "execution_count": 2,
   "id": "4c608c6a",
   "metadata": {},
   "outputs": [],
   "source": [
    "import gym\n",
    "import os, sys\n",
    "sys.path.append(os.getcwd())\n",
    "from os import path\n",
    "from common.utils import mini_batch_train\n",
    "from ddpg.ddpg import DDPGAgent"
   ]
  },
  {
   "cell_type": "code",
   "execution_count": 3,
   "id": "b7d66a0e",
   "metadata": {},
   "outputs": [
    {
     "name": "stdout",
     "output_type": "stream",
     "text": [
      "1\n",
      "2\n"
     ]
    },
    {
     "name": "stderr",
     "output_type": "stream",
     "text": [
      "/Users/jkho/opt/anaconda3/lib/python3.8/site-packages/gym/utils/passive_env_checker.py:97: UserWarning: \u001b[33mWARN: We recommend you to use a symmetric and normalized Box action space (range=[-1, 1]) https://stable-baselines3.readthedocs.io/en/master/guide/rl_tips.html\u001b[0m\n",
      "  logger.warn(\n"
     ]
    }
   ],
   "source": [
    "#initialize environment\n",
    "env = gym.make('MountainCarContinuous-v0')\n",
    "\n",
    "max_steps = 100 #max number of steps per episode\n",
    "batch_size = 300 #batch size for updates\n",
    "buffer_maxlen = 100000 #max buffer size\n",
    "\n",
    "# define training hyperparameters\n",
    "gamma = 0.99 #discount factor\n",
    "tau = 1e-2  #for updates with target network\n",
    "\n",
    "critic_lr = 1e-3 # learning rate\n",
    "actor_lr = 1e-3 # learning rate\n",
    "\n",
    "#initialize agent\n",
    "agent = DDPGAgent(env, gamma, tau, buffer_maxlen, critic_lr, actor_lr, max_action = 2) #max_action is set by what the environment expects"
   ]
  },
  {
   "cell_type": "code",
   "execution_count": null,
   "id": "283e73cb",
   "metadata": {},
   "outputs": [
    {
     "name": "stdout",
     "output_type": "stream",
     "text": [
      "Episode 0:  -5.116989791637238\n",
      "---------\n",
      "Episode 1:  -5.105532199714524\n",
      "---------\n",
      "Episode 2:  -5.109199200603126\n",
      "---------\n"
     ]
    },
    {
     "name": "stderr",
     "output_type": "stream",
     "text": [
      "/Users/jkho/FRIBsummer2022/TRACK_reinforcement_learning/ddpg/ddpg.py:71: UserWarning: Creating a tensor from a list of numpy.ndarrays is extremely slow. Please consider converting the list to a single numpy.ndarray with numpy.array() before converting to a tensor. (Triggered internally at  /Users/distiller/project/pytorch/torch/csrc/utils/tensor_new.cpp:210.)\n",
      "  state_batch = torch.FloatTensor(state_batch).to(self.device)\n"
     ]
    },
    {
     "name": "stdout",
     "output_type": "stream",
     "text": [
      "Episode 3:  -6.791080995421917\n",
      "---------\n",
      "Episode 4:  -11.519051884362838\n",
      "---------\n",
      "Episode 5:  -1.9906667521106645\n",
      "---------\n",
      "Episode 6:  -0.32912297076390074\n",
      "---------\n",
      "Episode 7:  -0.020179744450329832\n",
      "---------\n",
      "Episode 8:  -0.022221042707564063\n",
      "---------\n",
      "Episode 9:  -0.009296993408532295\n",
      "---------\n",
      "Episode 10:  -0.002327323458733388\n",
      "---------\n"
     ]
    }
   ],
   "source": [
    "max_episodes = 200\n",
    "episode_rewards = mini_batch_train(env, agent, max_episodes, max_steps, batch_size)"
   ]
  },
  {
   "cell_type": "code",
   "execution_count": null,
   "id": "2d70d8b6",
   "metadata": {},
   "outputs": [],
   "source": [
    "#initialize environment\n",
    "env = gym.make('LunarLanderContinuous-v2')\n",
    "\n",
    "max_steps = 100 #max number of steps per episode\n",
    "batch_size = 300 #batch size for updates\n",
    "buffer_maxlen = 100000 #max buffer size\n",
    "\n",
    "# define training hyperparameters\n",
    "gamma = 0.99 #discount factor\n",
    "tau = 1e-2  #for updates with target network\n",
    "\n",
    "critic_lr = 1e-4 # learning rate\n",
    "actor_lr = 1e-4 # learning rate\n",
    "\n",
    "#initialize agent\n",
    "agent = DDPGAgent(env, gamma, tau, buffer_maxlen, critic_lr, actor_lr, max_action = 2) #max_action is set by what the environment expects"
   ]
  },
  {
   "cell_type": "code",
   "execution_count": null,
   "id": "8368317e",
   "metadata": {},
   "outputs": [],
   "source": [
    "max_episodes = 350\n",
    "episode_rewards = mini_batch_train(env, agent, max_episodes, max_steps, batch_size)"
   ]
  }
 ],
 "metadata": {
  "kernelspec": {
   "display_name": "Python 3 (ipykernel)",
   "language": "python",
   "name": "python3"
  },
  "language_info": {
   "codemirror_mode": {
    "name": "ipython",
    "version": 3
   },
   "file_extension": ".py",
   "mimetype": "text/x-python",
   "name": "python",
   "nbconvert_exporter": "python",
   "pygments_lexer": "ipython3",
   "version": "3.8.12"
  }
 },
 "nbformat": 4,
 "nbformat_minor": 5
}
