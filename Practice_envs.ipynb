{
 "cells": [
  {
   "cell_type": "code",
   "execution_count": 1,
   "id": "93a5c0d2",
   "metadata": {},
   "outputs": [
    {
     "name": "stdout",
     "output_type": "stream",
     "text": [
      "Loading runTrack...\n",
      "Loading config...\n",
      "Loading utils...\n",
      "Loading hdf5Track...\n"
     ]
    }
   ],
   "source": [
    "import gym\n",
    "import os, sys\n",
    "sys.path.append(os.getcwd())\n",
    "from os import path\n",
    "from common.utils import mini_batch_train\n",
    "from ddpg.ddpg import DDPGAgent\n",
    "from TRACK_env import TRACKenv"
   ]
  },
  {
   "cell_type": "code",
   "execution_count": 2,
   "id": "d8b1d97c",
   "metadata": {},
   "outputs": [],
   "source": [
    "# #initialize environment\n",
    "# env = gym.make('MountainCarContinuous-v0')\n",
    "\n",
    "# max_steps = 100 #max number of steps per episode\n",
    "# batch_size = 300 #batch size for updates\n",
    "# buffer_maxlen = 100000 #max buffer size\n",
    "\n",
    "# # define training hyperparameters\n",
    "# gamma = 0.99 #discount factor\n",
    "# tau = 1e-2  #for updates with target network\n",
    "\n",
    "# critic_lr = 1e-3 # learning rate\n",
    "# actor_lr = 1e-3 # learning rate\n",
    "\n",
    "# #initialize agent\n",
    "# agent = DDPGAgent(env, gamma, tau, buffer_maxlen, critic_lr, actor_lr, max_action = 2) #max_action is set by what the environment expects"
   ]
  },
  {
   "cell_type": "code",
   "execution_count": 3,
   "id": "72830f8d",
   "metadata": {},
   "outputs": [],
   "source": [
    "# max_episodes = 200\n",
    "# episode_rewards = mini_batch_train(env, agent, max_episodes, max_steps, batch_size)"
   ]
  },
  {
   "cell_type": "code",
   "execution_count": 4,
   "id": "39ef26ad",
   "metadata": {},
   "outputs": [],
   "source": [
    "# #initialize environment\n",
    "# env = gym.make('LunarLanderContinuous-v2')\n",
    "\n",
    "# max_steps = 100 #max number of steps per episode\n",
    "# batch_size = 300 #batch size for updates\n",
    "# buffer_maxlen = 100000 #max buffer size\n",
    "\n",
    "# # define training hyperparameters\n",
    "# gamma = 0.99 #discount factor\n",
    "# tau = 1e-2  #for updates with target network\n",
    "\n",
    "# critic_lr = 1e-4 # learning rate\n",
    "# actor_lr = 1e-4 # learning rate\n",
    "\n",
    "# #initialize agent\n",
    "# agent = DDPGAgent(env, gamma, tau, buffer_maxlen, critic_lr, actor_lr, max_action = 2) #max_action is set by what the environment expects"
   ]
  },
  {
   "cell_type": "code",
   "execution_count": 5,
   "id": "6efa5829",
   "metadata": {},
   "outputs": [],
   "source": [
    "# max_episodes = 350\n",
    "# episode_rewards = mini_batch_train(env, agent, max_episodes, max_steps, batch_size)"
   ]
  },
  {
   "cell_type": "code",
   "execution_count": 6,
   "id": "ab169c15",
   "metadata": {},
   "outputs": [
    {
     "name": "stdout",
     "output_type": "stream",
     "text": [
      "6\n",
      "6\n"
     ]
    }
   ],
   "source": [
    "#initialize environment\n",
    "env = TRACKenv()\n",
    "\n",
    "max_steps = 100 #max number of steps per episode\n",
    "batch_size = 300 #batch size for updates\n",
    "buffer_maxlen = 100000 #max buffer size\n",
    "\n",
    "# define training hyperparameters\n",
    "gamma = 0.99 #discount factor\n",
    "tau = 1e-2  #for updates with target network\n",
    "\n",
    "critic_lr = 1e-4 # learning rate\n",
    "actor_lr = 1e-4 # learning rate\n",
    "\n",
    "#initialize agent\n",
    "agent = DDPGAgent(env, gamma, tau, buffer_maxlen, critic_lr, actor_lr, max_action = 2) #max_action is set by what the environment expects"
   ]
  },
  {
   "cell_type": "code",
   "execution_count": 7,
   "id": "49bfca41",
   "metadata": {},
   "outputs": [
    {
     "ename": "TypeError",
     "evalue": "reset() missing 1 required positional argument: 'return_info'",
     "output_type": "error",
     "traceback": [
      "\u001b[1;31m---------------------------------------------------------------------------\u001b[0m",
      "\u001b[1;31mTypeError\u001b[0m                                 Traceback (most recent call last)",
      "Input \u001b[1;32mIn [7]\u001b[0m, in \u001b[0;36m<cell line: 2>\u001b[1;34m()\u001b[0m\n\u001b[0;32m      1\u001b[0m max_episodes \u001b[38;5;241m=\u001b[39m \u001b[38;5;241m20\u001b[39m\n\u001b[1;32m----> 2\u001b[0m episode_rewards \u001b[38;5;241m=\u001b[39m \u001b[43mmini_batch_train\u001b[49m\u001b[43m(\u001b[49m\u001b[43menv\u001b[49m\u001b[43m,\u001b[49m\u001b[43m \u001b[49m\u001b[43magent\u001b[49m\u001b[43m,\u001b[49m\u001b[43m \u001b[49m\u001b[43mmax_episodes\u001b[49m\u001b[43m,\u001b[49m\u001b[43m \u001b[49m\u001b[43mmax_steps\u001b[49m\u001b[43m,\u001b[49m\u001b[43m \u001b[49m\u001b[43mbatch_size\u001b[49m\u001b[43m)\u001b[49m\n",
      "File \u001b[1;32m~\\OneDrive\\Documents\\TRACK_reinforcement_learning\\common\\utils.py:19\u001b[0m, in \u001b[0;36mmini_batch_train\u001b[1;34m(env, agent, max_episodes, max_steps, batch_size)\u001b[0m\n\u001b[0;32m     15\u001b[0m episode_rewards \u001b[38;5;241m=\u001b[39m []\n\u001b[0;32m     17\u001b[0m \u001b[38;5;28;01mfor\u001b[39;00m episode \u001b[38;5;129;01min\u001b[39;00m \u001b[38;5;28mrange\u001b[39m(max_episodes):\n\u001b[1;32m---> 19\u001b[0m     state \u001b[38;5;241m=\u001b[39m \u001b[43menv\u001b[49m\u001b[38;5;241;43m.\u001b[39;49m\u001b[43mreset\u001b[49m\u001b[43m(\u001b[49m\u001b[43m)\u001b[49m\n\u001b[0;32m     20\u001b[0m     episode_reward \u001b[38;5;241m=\u001b[39m \u001b[38;5;241m0\u001b[39m\n\u001b[0;32m     22\u001b[0m     \u001b[38;5;28;01mfor\u001b[39;00m step \u001b[38;5;129;01min\u001b[39;00m \u001b[38;5;28mrange\u001b[39m(max_steps):\n",
      "\u001b[1;31mTypeError\u001b[0m: reset() missing 1 required positional argument: 'return_info'"
     ]
    }
   ],
   "source": [
    "max_episodes = 20\n",
    "episode_rewards = mini_batch_train(env, agent, max_episodes, max_steps, batch_size)"
   ]
  }
 ],
 "metadata": {
  "kernelspec": {
   "display_name": "Python 3 (ipykernel)",
   "language": "python",
   "name": "python3"
  },
  "language_info": {
   "codemirror_mode": {
    "name": "ipython",
    "version": 3
   },
   "file_extension": ".py",
   "mimetype": "text/x-python",
   "name": "python",
   "nbconvert_exporter": "python",
   "pygments_lexer": "ipython3",
   "version": "3.9.12"
  }
 },
 "nbformat": 4,
 "nbformat_minor": 5
}
